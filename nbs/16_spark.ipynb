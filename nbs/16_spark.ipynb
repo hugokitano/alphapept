{
 "cells": [
  {
   "cell_type": "code",
   "execution_count": null,
   "id": "ec2d1e18",
   "metadata": {},
   "outputs": [],
   "source": [
    "# default_exp spark"
   ]
  },
  {
   "cell_type": "markdown",
   "id": "01f8763a",
   "metadata": {},
   "source": [
    "# Spark\n",
    "\n",
    "> A collection of helper functions for PySpark functionality"
   ]
  },
  {
   "cell_type": "code",
   "execution_count": null,
   "id": "be732440",
   "metadata": {},
   "outputs": [],
   "source": [
    "#hide\n",
    "from nbdev.showdoc import *"
   ]
  },
  {
   "cell_type": "markdown",
   "id": "15d8858a",
   "metadata": {},
   "source": [
    "## Background\n",
    "\n",
    "Apache Spark is a powerful distributed compute engine for large-scale Big Data operations. With a bit of setup, Spark offers parallelization and immense scalability for data-intensive problems.\n",
    "\n",
    "Useful resources:\n",
    "\n",
    "- [Apache Spark](https://databricks.com/spark/about)\n",
    "\n",
    "- [PySpark](https://spark.apache.org/docs/latest/api/python/)\n",
    "\n",
    "- [Installing PySpark](https://sparkbyexamples.com/pyspark/install-pyspark-for-python/)"
   ]
  },
  {
   "cell_type": "code",
   "execution_count": null,
   "id": "d9c07d22",
   "metadata": {},
   "outputs": [],
   "source": [
    "#export\n",
    "import pyspark\n",
    "from pyspark.sql import SparkSession\n",
    "\n",
    "def create_spark_session(settings: dict):\n",
    "    \"\"\"\n",
    "    Boots up a SparkSession object manager to handle parallelized operations\n",
    "    \"\"\"\n",
    "    spark = SparkSession.builder\n",
    "    if not settings.get('spark'):\n",
    "        return SparkSession.builder.getOrCreate()\n",
    "    for parameter, value in settings['spark'].items():\n",
    "        session = session.config(parameter, value)\n",
    "    return session.getOrCreate()"
   ]
  },
  {
   "cell_type": "code",
   "execution_count": null,
   "id": "414b7c7b",
   "metadata": {},
   "outputs": [
    {
     "name": "stdout",
     "output_type": "stream",
     "text": [
      "Converted 00_settings.ipynb.\n",
      "Converted 01_chem.ipynb.\n",
      "Converted 02_io.ipynb.\n",
      "Converted 03_fasta.ipynb.\n",
      "Converted 05_search.ipynb.\n",
      "Converted 06_score.ipynb.\n",
      "Converted 07_recalibration.ipynb.\n",
      "Converted 08_quantification.ipynb.\n",
      "Converted 09_matching.ipynb.\n",
      "Converted 10_constants.ipynb.\n",
      "Converted 11_interface.ipynb.\n",
      "Converted 12_performance.ipynb.\n",
      "Converted 13_export.ipynb.\n",
      "Converted 14_display.ipynb.\n",
      "Converted 15_label.ipynb.\n",
      "Converted additional_code.ipynb.\n",
      "Converted contributing.ipynb.\n",
      "Converted file_formats.ipynb.\n",
      "Converted index.ipynb.\n"
     ]
    }
   ],
   "source": [
    "#hide\n",
    "from nbdev.export import *\n",
    "notebook2script()"
   ]
  }
 ],
 "metadata": {
  "kernelspec": {
   "display_name": "Python 3 (ipykernel)",
   "language": "python",
   "name": "python3"
  },
  "language_info": {
   "codemirror_mode": {
    "name": "ipython",
    "version": 3
   },
   "file_extension": ".py",
   "mimetype": "text/x-python",
   "name": "python",
   "nbconvert_exporter": "python",
   "pygments_lexer": "ipython3",
   "version": "3.8.12"
  }
 },
 "nbformat": 4,
 "nbformat_minor": 5
}
